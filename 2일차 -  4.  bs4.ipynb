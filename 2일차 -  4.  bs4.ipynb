{
 "cells": [
  {
   "cell_type": "code",
   "execution_count": 16,
   "id": "0359b90c",
   "metadata": {},
   "outputs": [],
   "source": [
    "import requests"
   ]
  },
  {
   "cell_type": "markdown",
   "id": "9899568d",
   "metadata": {},
   "source": [
    "https://news.daum.net/economic#1"
   ]
  },
  {
   "cell_type": "code",
   "execution_count": 17,
   "id": "7296b977",
   "metadata": {},
   "outputs": [],
   "source": [
    "path='https://news.daum.net/economic#1'\n",
    "req = requests.get(path)"
   ]
  },
  {
   "cell_type": "code",
   "execution_count": 18,
   "id": "9f61f235",
   "metadata": {},
   "outputs": [
    {
     "data": {
      "text/plain": [
       "200"
      ]
     },
     "execution_count": 18,
     "metadata": {},
     "output_type": "execute_result"
    }
   ],
   "source": [
    "req.status_code"
   ]
  },
  {
   "cell_type": "code",
   "execution_count": 19,
   "id": "ad5ac590",
   "metadata": {},
   "outputs": [],
   "source": [
    "from bs4 import BeautifulSoup"
   ]
  },
  {
   "cell_type": "code",
   "execution_count": 20,
   "id": "6f70cfc5",
   "metadata": {},
   "outputs": [],
   "source": [
    "soup = BeautifulSoup(req.content,'html.parser')"
   ]
  },
  {
   "cell_type": "code",
   "execution_count": 21,
   "id": "7f2e32eb",
   "metadata": {},
   "outputs": [
    {
     "data": {
      "text/plain": [
       "bs4.BeautifulSoup"
      ]
     },
     "execution_count": 21,
     "metadata": {},
     "output_type": "execute_result"
    }
   ],
   "source": [
    "type(soup)"
   ]
  },
  {
   "cell_type": "code",
   "execution_count": 22,
   "id": "4c409f1a",
   "metadata": {},
   "outputs": [
    {
     "data": {
      "text/plain": [
       "bs4.element.ResultSet"
      ]
     },
     "execution_count": 22,
     "metadata": {},
     "output_type": "execute_result"
    }
   ],
   "source": [
    "result = soup.select('div > strong.tit_thumb > a[href].link_txt')\n",
    "type(result)"
   ]
  },
  {
   "cell_type": "code",
   "execution_count": 23,
   "id": "22ab320a",
   "metadata": {},
   "outputs": [
    {
     "data": {
      "text/plain": [
       "<a class=\"link_txt\" data-tiara-custom=\"contentUniqueKey=hamny-20210624164836527\" data-tiara-id=\"20210624164836527\" data-tiara-layer=\"article_main\" data-tiara-ordnum=\"1\" data-tiara-type=\"harmony\" href=\"https://news.v.daum.net/v/20210624164836527\">코인빗, 상폐예정 8종코인 유망코인으로 교환추진</a>"
      ]
     },
     "execution_count": 23,
     "metadata": {},
     "output_type": "execute_result"
    }
   ],
   "source": [
    "result[0]"
   ]
  },
  {
   "cell_type": "code",
   "execution_count": 24,
   "id": "d5073796",
   "metadata": {},
   "outputs": [],
   "source": [
    "tag = result[0]"
   ]
  },
  {
   "cell_type": "code",
   "execution_count": 25,
   "id": "4f8cf89e",
   "metadata": {},
   "outputs": [
    {
     "data": {
      "text/plain": [
       "'코인빗, 상폐예정 8종코인 유망코인으로 교환추진'"
      ]
     },
     "execution_count": 25,
     "metadata": {},
     "output_type": "execute_result"
    }
   ],
   "source": [
    "tag.text"
   ]
  },
  {
   "cell_type": "code",
   "execution_count": 26,
   "id": "6aef3ae2",
   "metadata": {},
   "outputs": [
    {
     "data": {
      "text/plain": [
       "'https://news.v.daum.net/v/20210624164836527'"
      ]
     },
     "execution_count": 26,
     "metadata": {},
     "output_type": "execute_result"
    }
   ],
   "source": [
    "tag['href']"
   ]
  },
  {
   "cell_type": "code",
   "execution_count": 27,
   "id": "2ca005ea",
   "metadata": {},
   "outputs": [
    {
     "name": "stdout",
     "output_type": "stream",
     "text": [
      "코인빗, 상폐예정 8종코인 유망코인으로 교환추진 https://news.v.daum.net/v/20210624164836527\n",
      "\"10명중 6명 올 하반기에도 집값 오른다\" https://news.v.daum.net/v/20210624163806011\n",
      "이주열 한은 총재 \"연내 금리인상\" 첫 공식화..물가·가계빚 우려 https://news.v.daum.net/v/20210624162732510\n",
      "재산권 침해 논란에 국토부·서울시 \"조합원 지위 제한, 소급·일괄적용 아냐\" https://news.v.daum.net/v/20210624161729105\n",
      "삼성·현대차 등 금융복합기업 감독 본격화..3년마다 위험평가 https://news.v.daum.net/v/20210624161440968\n"
     ]
    }
   ],
   "source": [
    "for tag in result:\n",
    "    print(tag.text.strip(), tag['href'].strip())"
   ]
  },
  {
   "cell_type": "code",
   "execution_count": null,
   "id": "89e76ec2",
   "metadata": {},
   "outputs": [],
   "source": []
  }
 ],
 "metadata": {
  "kernelspec": {
   "display_name": "Python 3",
   "language": "python",
   "name": "python3"
  },
  "language_info": {
   "codemirror_mode": {
    "name": "ipython",
    "version": 3
   },
   "file_extension": ".py",
   "mimetype": "text/x-python",
   "name": "python",
   "nbconvert_exporter": "python",
   "pygments_lexer": "ipython3",
   "version": "3.6.4"
  }
 },
 "nbformat": 4,
 "nbformat_minor": 5
}
